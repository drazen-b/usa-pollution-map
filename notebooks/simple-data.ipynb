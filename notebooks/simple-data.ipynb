{
 "cells": [
  {
   "cell_type": "code",
   "execution_count": 45,
   "metadata": {},
   "outputs": [],
   "source": [
    "import pandas as pd\n",
    "import numpy as np\n",
    "import matplotlib.pyplot as pls\n",
    "import config"
   ]
  },
  {
   "attachments": {},
   "cell_type": "markdown",
   "metadata": {},
   "source": [
    "# Loading and displaying US cities data"
   ]
  },
  {
   "cell_type": "code",
   "execution_count": 46,
   "metadata": {},
   "outputs": [
    {
     "name": "stdout",
     "output_type": "stream",
     "text": [
      "              city   city_ascii state_id  state_name  county_fips   \n",
      "0         New York     New York       NY    New York        36061  \\\n",
      "1      Los Angeles  Los Angeles       CA  California         6037   \n",
      "2          Chicago      Chicago       IL    Illinois        17031   \n",
      "3            Miami        Miami       FL     Florida        12086   \n",
      "4           Dallas       Dallas       TX       Texas        48113   \n",
      "...            ...          ...      ...         ...          ...   \n",
      "28333        Gross        Gross       NE    Nebraska        31015   \n",
      "28334       Lotsee       Lotsee       OK    Oklahoma        40143   \n",
      "28335    The Ranch    The Ranch       MN   Minnesota        27087   \n",
      "28336     Shamrock     Shamrock       OK    Oklahoma        40037   \n",
      "28337       Monowi       Monowi       NE    Nebraska        31015   \n",
      "\n",
      "       county_name      lat       lng  population  density   source  military   \n",
      "0         New York  40.6943  -73.9249    18713220    10715  polygon     False  \\\n",
      "1      Los Angeles  34.1139 -118.4068    12750807     3276  polygon     False   \n",
      "2             Cook  41.8373  -87.6862     8604203     4574  polygon     False   \n",
      "3       Miami-Dade  25.7839  -80.2102     6445545     5019  polygon     False   \n",
      "4           Dallas  32.7936  -96.7662     5743938     1526  polygon     False   \n",
      "...            ...      ...       ...         ...      ...      ...       ...   \n",
      "28333         Boyd  42.9461  -98.5697           2        6  polygon     False   \n",
      "28334        Tulsa  36.1334  -96.2091           2       39  polygon     False   \n",
      "28335     Mahnomen  47.3198  -95.6952           2        2  polygon     False   \n",
      "28336        Creek  35.9113  -96.5772           2        2  polygon     False   \n",
      "28337         Boyd  42.8307  -98.3296           1        1  polygon     False   \n",
      "\n",
      "       incorporated             timezone  ranking   \n",
      "0              True     America/New_York        1  \\\n",
      "1              True  America/Los_Angeles        1   \n",
      "2              True      America/Chicago        1   \n",
      "3              True     America/New_York        1   \n",
      "4              True      America/Chicago        1   \n",
      "...             ...                  ...      ...   \n",
      "28333          True      America/Chicago        3   \n",
      "28334          True      America/Chicago        3   \n",
      "28335          True      America/Chicago        3   \n",
      "28336          True      America/Chicago        3   \n",
      "28337          True      America/Chicago        3   \n",
      "\n",
      "                                                    zips          id  \n",
      "0      11229 11226 11225 11224 11222 11221 11220 1138...  1840034016  \n",
      "1      90291 90293 90292 91316 91311 90037 90031 9000...  1840020491  \n",
      "2      60018 60649 60641 60640 60643 60642 60645 6064...  1840000494  \n",
      "3      33129 33125 33126 33127 33128 33149 33144 3314...  1840015149  \n",
      "4      75287 75098 75233 75254 75251 75252 75253 7503...  1840019440  \n",
      "...                                                  ...         ...  \n",
      "28333                                              68719  1840011032  \n",
      "28334                                              74063  1840021674  \n",
      "28335                                              56557  1840039629  \n",
      "28336                                              74068  1840022701  \n",
      "28337                                              68746  1840011034  \n",
      "\n",
      "[28338 rows x 17 columns]\n",
      "<class 'pandas.core.frame.DataFrame'>\n"
     ]
    }
   ],
   "source": [
    "cities = pd.read_csv('../data/maps/uscities.csv', header=0)\n",
    "print(cities)\n",
    "print(type(cities))"
   ]
  },
  {
   "cell_type": "code",
   "execution_count": 47,
   "metadata": {},
   "outputs": [
    {
     "name": "stdout",
     "output_type": "stream",
     "text": [
      "Twenty biggest cities:\n",
      "                city        city_ascii state_id      state_name  county_fips   \n",
      "0           New York          New York       NY        New York        36061  \\\n",
      "1        Los Angeles       Los Angeles       CA      California         6037   \n",
      "2            Chicago           Chicago       IL        Illinois        17031   \n",
      "3              Miami             Miami       FL         Florida        12086   \n",
      "4             Dallas            Dallas       TX           Texas        48113   \n",
      "..               ...               ...      ...             ...          ...   \n",
      "70  Colorado Springs  Colorado Springs       CO        Colorado         8041   \n",
      "71        Charleston        Charleston       SC  South Carolina        45019   \n",
      "72       Springfield       Springfield       MA   Massachusetts        25013   \n",
      "73      Grand Rapids      Grand Rapids       MI        Michigan        26081   \n",
      "74     Mission Viejo     Mission Viejo       CA      California         6059   \n",
      "\n",
      "    county_name      lat       lng  population  density   source  military   \n",
      "0      New York  40.6943  -73.9249    18713220    10715  polygon     False  \\\n",
      "1   Los Angeles  34.1139 -118.4068    12750807     3276  polygon     False   \n",
      "2          Cook  41.8373  -87.6862     8604203     4574  polygon     False   \n",
      "3    Miami-Dade  25.7839  -80.2102     6445545     5019  polygon     False   \n",
      "4        Dallas  32.7936  -96.7662     5743938     1526  polygon     False   \n",
      "..          ...      ...       ...         ...      ...      ...       ...   \n",
      "70      El Paso  38.8674 -104.7606      642413      946  polygon     False   \n",
      "71   Charleston  32.8153  -79.9628      628377      480  polygon     False   \n",
      "72      Hampden  42.1155  -72.5395      623401     1860  polygon     False   \n",
      "73         Kent  42.9620  -85.6562      609314     1734  polygon     False   \n",
      "74       Orange  33.6095 -117.6550      590249     2058  polygon     False   \n",
      "\n",
      "    incorporated             timezone  ranking   \n",
      "0           True     America/New_York        1  \\\n",
      "1           True  America/Los_Angeles        1   \n",
      "2           True      America/Chicago        1   \n",
      "3           True     America/New_York        1   \n",
      "4           True      America/Chicago        1   \n",
      "..           ...                  ...      ...   \n",
      "70          True       America/Denver        2   \n",
      "71          True     America/New_York        2   \n",
      "72          True     America/New_York        2   \n",
      "73          True      America/Detroit        2   \n",
      "74          True  America/Los_Angeles        2   \n",
      "\n",
      "                                                 zips          id  \n",
      "0   11229 11226 11225 11224 11222 11221 11220 1138...  1840034016  \n",
      "1   90291 90293 90292 91316 91311 90037 90031 9000...  1840020491  \n",
      "2   60018 60649 60641 60640 60643 60642 60645 6064...  1840000494  \n",
      "3   33129 33125 33126 33127 33128 33149 33144 3314...  1840015149  \n",
      "4   75287 75098 75233 75254 75251 75252 75253 7503...  1840019440  \n",
      "..                                                ...         ...  \n",
      "70  80951 80909 80904 80905 80906 80907 80903 8093...  1840018825  \n",
      "71  29414 29424 29455 29407 29401 29403 29409 2949...  1840015163  \n",
      "72  01151 01118 01119 01199 01129 01128 01107 0110...  1840000466  \n",
      "73  49546 49507 49506 49505 49504 49503 49508 4950...  1840002928  \n",
      "74                                  92692 92691 92690  1840020580  \n",
      "\n",
      "[75 rows x 17 columns]\n"
     ]
    }
   ],
   "source": [
    "biggest_cities = cities.sort_values(by=['population'], ascending=False).head(75)\n",
    "print(\"Twenty biggest cities:\")\n",
    "print(biggest_cities)\n",
    "cities = biggest_cities"
   ]
  },
  {
   "attachments": {},
   "cell_type": "markdown",
   "metadata": {},
   "source": [
    "# Loading and displaying Pollution data"
   ]
  },
  {
   "cell_type": "code",
   "execution_count": 48,
   "metadata": {},
   "outputs": [],
   "source": [
    "import requests\n",
    "import json"
   ]
  },
  {
   "cell_type": "code",
   "execution_count": 49,
   "metadata": {},
   "outputs": [],
   "source": [
    "def get_air_pollution_history(lat, lon, start, end, api_key):\n",
    "    api_url = f\"http://api.openweathermap.org/data/2.5/air_pollution?lat={lat}&lon={lon}&start={start}&end={end}&appid={api_key}\"\n",
    "    response = requests.get(api_url)\n",
    "\n",
    "    if response.status_code == 200:\n",
    "        data = response.json()\n",
    "        return data\n",
    "    else:\n",
    "        print(\"Error:\", response.status_code)\n",
    "        return None"
   ]
  },
  {
   "attachments": {},
   "cell_type": "markdown",
   "metadata": {},
   "source": [
    "Get air pollution history for a single city."
   ]
  },
  {
   "cell_type": "code",
   "execution_count": 50,
   "metadata": {},
   "outputs": [
    {
     "name": "stdout",
     "output_type": "stream",
     "text": [
      "       city city_ascii state_id state_name  county_fips county_name      lat   \n",
      "0  New York   New York       NY   New York        36061    New York  40.6943  \\\n",
      "\n",
      "       lng  population  density   source  military  incorporated   \n",
      "0 -73.9249    18713220    10715  polygon     False          True  \\\n",
      "\n",
      "           timezone  ranking   \n",
      "0  America/New_York        1  \\\n",
      "\n",
      "                                                zips          id  \n",
      "0  11229 11226 11225 11224 11222 11221 11220 1138...  1840034016  \n"
     ]
    }
   ],
   "source": [
    "start_time = 1652299344 # May 11, 2022 8:02:24 PM\n",
    "end_time = 1683835344 # May 11, 2023 8:02:24 PM\n",
    "api_key = config.api_key\n",
    "\n",
    "\n",
    "new_york = cities[cities['city'] == 'New York']\n",
    "\n",
    "print(new_york)\n",
    "\n",
    "new_york_data = get_air_pollution_history(new_york.lat.values[0], new_york.lng.values[0], start_time, end_time, api_key)"
   ]
  },
  {
   "cell_type": "code",
   "execution_count": 51,
   "metadata": {},
   "outputs": [
    {
     "name": "stdout",
     "output_type": "stream",
     "text": [
      "{'coord': {'lon': -73.9249, 'lat': 40.6943}, 'list': [{'main': {'aqi': 1}, 'components': {'co': 427.25, 'no': 19.67, 'no2': 32.9, 'o3': 40.77, 'so2': 10.73, 'pm2_5': 5.56, 'pm10': 9.55, 'nh3': 3.17}, 'dt': 1684159131}]}\n"
     ]
    }
   ],
   "source": [
    "print(new_york_data)"
   ]
  },
  {
   "cell_type": "code",
   "execution_count": 52,
   "metadata": {},
   "outputs": [],
   "source": [
    "def merge_json(data):\n",
    "    result = list()\n",
    "    result.extend(json.load(data))"
   ]
  },
  {
   "cell_type": "code",
   "execution_count": 53,
   "metadata": {},
   "outputs": [
    {
     "name": "stdout",
     "output_type": "stream",
     "text": [
      "(75, 17)\n"
     ]
    }
   ],
   "source": [
    "print(cities.shape)"
   ]
  },
  {
   "cell_type": "code",
   "execution_count": 54,
   "metadata": {},
   "outputs": [],
   "source": [
    "pollution_list = []\n",
    "for index, row in cities.iterrows():\n",
    "    # print(row.lat)\n",
    "    data = get_air_pollution_history(row.lat, row.lng, start_time, end_time, api_key)\n",
    "    # print(data)\n",
    "    pollution_list.append(data)"
   ]
  },
  {
   "cell_type": "code",
   "execution_count": 55,
   "metadata": {},
   "outputs": [],
   "source": [
    "# print(pollution_list)\n",
    "# print()"
   ]
  },
  {
   "cell_type": "code",
   "execution_count": 56,
   "metadata": {},
   "outputs": [],
   "source": [
    "file_path = '../data/pollution/pollution_data_simple.json'\n",
    "with open(file_path, \"w\") as json_file:\n",
    "    json.dump(pollution_list, json_file)"
   ]
  }
 ],
 "metadata": {
  "kernelspec": {
   "display_name": "usa-venv",
   "language": "python",
   "name": "python3"
  },
  "language_info": {
   "codemirror_mode": {
    "name": "ipython",
    "version": 3
   },
   "file_extension": ".py",
   "mimetype": "text/x-python",
   "name": "python",
   "nbconvert_exporter": "python",
   "pygments_lexer": "ipython3",
   "version": "3.10.6"
  },
  "orig_nbformat": 4
 },
 "nbformat": 4,
 "nbformat_minor": 2
}
