{
 "cells": [
  {
   "cell_type": "code",
   "execution_count": 1,
   "metadata": {},
   "outputs": [],
   "source": [
    "import pandas as pd\n",
    "import numpy as np\n",
    "import matplotlib.pyplot as pls"
   ]
  },
  {
   "attachments": {},
   "cell_type": "markdown",
   "metadata": {},
   "source": [
    "# Loading and displaying US cities data"
   ]
  },
  {
   "cell_type": "code",
   "execution_count": 6,
   "metadata": {},
   "outputs": [
    {
     "name": "stdout",
     "output_type": "stream",
     "text": [
      "              city   city_ascii state_id  state_name  county_fips   \n",
      "0         New York     New York       NY    New York        36061  \\\n",
      "1      Los Angeles  Los Angeles       CA  California         6037   \n",
      "2          Chicago      Chicago       IL    Illinois        17031   \n",
      "3            Miami        Miami       FL     Florida        12086   \n",
      "4           Dallas       Dallas       TX       Texas        48113   \n",
      "...            ...          ...      ...         ...          ...   \n",
      "28333        Gross        Gross       NE    Nebraska        31015   \n",
      "28334       Lotsee       Lotsee       OK    Oklahoma        40143   \n",
      "28335    The Ranch    The Ranch       MN   Minnesota        27087   \n",
      "28336     Shamrock     Shamrock       OK    Oklahoma        40037   \n",
      "28337       Monowi       Monowi       NE    Nebraska        31015   \n",
      "\n",
      "       county_name      lat       lng  population  density   source  military   \n",
      "0         New York  40.6943  -73.9249    18713220    10715  polygon     False  \\\n",
      "1      Los Angeles  34.1139 -118.4068    12750807     3276  polygon     False   \n",
      "2             Cook  41.8373  -87.6862     8604203     4574  polygon     False   \n",
      "3       Miami-Dade  25.7839  -80.2102     6445545     5019  polygon     False   \n",
      "4           Dallas  32.7936  -96.7662     5743938     1526  polygon     False   \n",
      "...            ...      ...       ...         ...      ...      ...       ...   \n",
      "28333         Boyd  42.9461  -98.5697           2        6  polygon     False   \n",
      "28334        Tulsa  36.1334  -96.2091           2       39  polygon     False   \n",
      "28335     Mahnomen  47.3198  -95.6952           2        2  polygon     False   \n",
      "28336        Creek  35.9113  -96.5772           2        2  polygon     False   \n",
      "28337         Boyd  42.8307  -98.3296           1        1  polygon     False   \n",
      "\n",
      "       incorporated             timezone  ranking   \n",
      "0              True     America/New_York        1  \\\n",
      "1              True  America/Los_Angeles        1   \n",
      "2              True      America/Chicago        1   \n",
      "3              True     America/New_York        1   \n",
      "4              True      America/Chicago        1   \n",
      "...             ...                  ...      ...   \n",
      "28333          True      America/Chicago        3   \n",
      "28334          True      America/Chicago        3   \n",
      "28335          True      America/Chicago        3   \n",
      "28336          True      America/Chicago        3   \n",
      "28337          True      America/Chicago        3   \n",
      "\n",
      "                                                    zips          id  \n",
      "0      11229 11226 11225 11224 11222 11221 11220 1138...  1840034016  \n",
      "1      90291 90293 90292 91316 91311 90037 90031 9000...  1840020491  \n",
      "2      60018 60649 60641 60640 60643 60642 60645 6064...  1840000494  \n",
      "3      33129 33125 33126 33127 33128 33149 33144 3314...  1840015149  \n",
      "4      75287 75098 75233 75254 75251 75252 75253 7503...  1840019440  \n",
      "...                                                  ...         ...  \n",
      "28333                                              68719  1840011032  \n",
      "28334                                              74063  1840021674  \n",
      "28335                                              56557  1840039629  \n",
      "28336                                              74068  1840022701  \n",
      "28337                                              68746  1840011034  \n",
      "\n",
      "[28338 rows x 17 columns]\n",
      "<class 'pandas.core.frame.DataFrame'>\n"
     ]
    }
   ],
   "source": [
    "cities = pd.read_csv('../data/maps/uscities.csv', header=0)\n",
    "print(cities)\n",
    "print(type(cities))"
   ]
  },
  {
   "cell_type": "code",
   "execution_count": 7,
   "metadata": {},
   "outputs": [
    {
     "name": "stdout",
     "output_type": "stream",
     "text": [
      "Twenty biggest cities:\n",
      "             city     city_ascii state_id            state_name  county_fips   \n",
      "0        New York       New York       NY              New York        36061  \\\n",
      "1     Los Angeles    Los Angeles       CA            California         6037   \n",
      "2         Chicago        Chicago       IL              Illinois        17031   \n",
      "3           Miami          Miami       FL               Florida        12086   \n",
      "4          Dallas         Dallas       TX                 Texas        48113   \n",
      "5    Philadelphia   Philadelphia       PA          Pennsylvania        42101   \n",
      "6         Houston        Houston       TX                 Texas        48201   \n",
      "7         Atlanta        Atlanta       GA               Georgia        13121   \n",
      "8      Washington     Washington       DC  District of Columbia        11001   \n",
      "9          Boston         Boston       MA         Massachusetts        25025   \n",
      "10        Phoenix        Phoenix       AZ               Arizona         4013   \n",
      "11        Seattle        Seattle       WA            Washington        53033   \n",
      "12  San Francisco  San Francisco       CA            California         6075   \n",
      "13        Detroit        Detroit       MI              Michigan        26163   \n",
      "14      San Diego      San Diego       CA            California         6073   \n",
      "15    Minneapolis    Minneapolis       MN             Minnesota        27053   \n",
      "16          Tampa          Tampa       FL               Florida        12057   \n",
      "17         Denver         Denver       CO              Colorado         8031   \n",
      "18       Brooklyn       Brooklyn       NY              New York        36047   \n",
      "19         Queens         Queens       NY              New York        36081   \n",
      "\n",
      "             county_name      lat       lng  population  density   source   \n",
      "0               New York  40.6943  -73.9249    18713220    10715  polygon  \\\n",
      "1            Los Angeles  34.1139 -118.4068    12750807     3276  polygon   \n",
      "2                   Cook  41.8373  -87.6862     8604203     4574  polygon   \n",
      "3             Miami-Dade  25.7839  -80.2102     6445545     5019  polygon   \n",
      "4                 Dallas  32.7936  -96.7662     5743938     1526  polygon   \n",
      "5           Philadelphia  40.0077  -75.1339     5649300     4554  polygon   \n",
      "6                 Harris  29.7863  -95.3889     5464251     1399  polygon   \n",
      "7                 Fulton  33.7627  -84.4224     5449398     1441  polygon   \n",
      "8   District of Columbia  38.9047  -77.0163     5379184     4457  polygon   \n",
      "9                Suffolk  42.3188  -71.0846     4688346     5532  polygon   \n",
      "10              Maricopa  33.5722 -112.0891     4219697     1253  polygon   \n",
      "11                  King  47.6211 -122.3244     3789215     3469  polygon   \n",
      "12         San Francisco  37.7562 -122.4430     3592294     7256  polygon   \n",
      "13                 Wayne  42.3834  -83.1024     3506126     1864  polygon   \n",
      "14             San Diego  32.8312 -117.1225     3220118     1686  polygon   \n",
      "15              Hennepin  44.9635  -93.2678     2977172     3071  polygon   \n",
      "16          Hillsborough  27.9942  -82.4451     2908063     1353  polygon   \n",
      "17                Denver  39.7621 -104.8759     2876625     1831  polygon   \n",
      "18                 Kings  40.6501  -73.9496     2559903    14221  polygon   \n",
      "19                Queens  40.7498  -73.7976     2230722     7885  polygon   \n",
      "\n",
      "    military  incorporated             timezone  ranking   \n",
      "0      False          True     America/New_York        1  \\\n",
      "1      False          True  America/Los_Angeles        1   \n",
      "2      False          True      America/Chicago        1   \n",
      "3      False          True     America/New_York        1   \n",
      "4      False          True      America/Chicago        1   \n",
      "5      False          True     America/New_York        1   \n",
      "6      False          True      America/Chicago        1   \n",
      "7      False          True     America/New_York        1   \n",
      "8      False          True     America/New_York        1   \n",
      "9      False          True     America/New_York        1   \n",
      "10     False          True      America/Phoenix        1   \n",
      "11     False          True  America/Los_Angeles        1   \n",
      "12     False          True  America/Los_Angeles        1   \n",
      "13     False          True      America/Detroit        1   \n",
      "14     False          True  America/Los_Angeles        1   \n",
      "15     False          True      America/Chicago        1   \n",
      "16     False          True     America/New_York        1   \n",
      "17     False          True       America/Denver        1   \n",
      "18     False          True     America/New_York        1   \n",
      "19     False          True     America/New_York        1   \n",
      "\n",
      "                                                 zips          id  \n",
      "0   11229 11226 11225 11224 11222 11221 11220 1138...  1840034016  \n",
      "1   90291 90293 90292 91316 91311 90037 90031 9000...  1840020491  \n",
      "2   60018 60649 60641 60640 60643 60642 60645 6064...  1840000494  \n",
      "3   33129 33125 33126 33127 33128 33149 33144 3314...  1840015149  \n",
      "4   75287 75098 75233 75254 75251 75252 75253 7503...  1840019440  \n",
      "5   19154 19151 19150 19153 19152 19102 19103 1910...  1840000673  \n",
      "6   77069 77068 77061 77060 77063 77062 77065 7706...  1840020925  \n",
      "7   30334 30331 30332 30309 30308 30305 30307 3030...  1840013660  \n",
      "8   20010 20011 20012 20015 20228 20520 20307 2041...  1840006060  \n",
      "9   02120 02121 02122 02124 02125 02126 02127 0212...  1840000455  \n",
      "10  85008 85009 85006 85007 85004 85083 85086 8508...  1840020568  \n",
      "11  98109 98108 98104 98107 98106 98101 98103 9810...  1840021117  \n",
      "12  94130 94131 94132 94133 94134 94109 94108 9410...  1840021543  \n",
      "13  48209 48208 48201 48207 48205 48204 48203 4820...  1840003971  \n",
      "14  92109 92108 92103 92111 92154 92110 92115 9214...  1840021990  \n",
      "15  55403 55409 55408 55407 55406 55405 55404 5540...  1840007830  \n",
      "16  33637 33629 33621 33620 33619 33616 33613 3361...  1840015982  \n",
      "17  80264 80230 80231 80236 80237 80235 80238 8023...  1840018789  \n",
      "18  11212 11213 11216 11233 11238 11209 11214 1122...  1840034030  \n",
      "19  11361 11362 11363 11364 11354 11355 11356 1135...  1840034002  \n"
     ]
    }
   ],
   "source": [
    "biggest_cities = cities.sort_values(by=['population'], ascending=False).head(20)\n",
    "print(\"Twenty biggest cities:\")\n",
    "print(biggest_cities)\n",
    "cities = biggest_cities"
   ]
  },
  {
   "attachments": {},
   "cell_type": "markdown",
   "metadata": {},
   "source": [
    "# Loading and displaying Pollution data"
   ]
  },
  {
   "cell_type": "code",
   "execution_count": 9,
   "metadata": {},
   "outputs": [],
   "source": [
    "import requests\n",
    "import json"
   ]
  },
  {
   "cell_type": "code",
   "execution_count": 10,
   "metadata": {},
   "outputs": [],
   "source": [
    "def get_air_pollution_history(lat, lon, start, end, api_key):\n",
    "    api_url = f\"http://api.openweathermap.org/data/2.5/air_pollution?lat={lat}&lon={lon}&start={start}&end={end}&appid={api_key}\"\n",
    "    response = requests.get(api_url)\n",
    "\n",
    "    if response.status_code == 200:\n",
    "        data = response.json()\n",
    "        return data\n",
    "    else:\n",
    "        print(\"Error:\", response.status_code)\n",
    "        return None"
   ]
  },
  {
   "attachments": {},
   "cell_type": "markdown",
   "metadata": {},
   "source": [
    "Get air pollution history for a single city."
   ]
  },
  {
   "cell_type": "code",
   "execution_count": 12,
   "metadata": {},
   "outputs": [
    {
     "name": "stdout",
     "output_type": "stream",
     "text": [
      "       city city_ascii state_id state_name  county_fips county_name      lat   \n",
      "0  New York   New York       NY   New York        36061    New York  40.6943  \\\n",
      "\n",
      "       lng  population  density   source  military  incorporated   \n",
      "0 -73.9249    18713220    10715  polygon     False          True  \\\n",
      "\n",
      "           timezone  ranking   \n",
      "0  America/New_York        1  \\\n",
      "\n",
      "                                                zips          id  \n",
      "0  11229 11226 11225 11224 11222 11221 11220 1138...  1840034016  \n"
     ]
    }
   ],
   "source": [
    "start_time = 1652299344 # May 11, 2022 8:02:24 PM\n",
    "end_time = 1683835344 # May 11, 2023 8:02:24 PM\n",
    "api_key = '562335aff7efe8e20cf106efddd7abf6'\n",
    "\n",
    "\n",
    "new_york = cities[cities['city'] == 'New York']\n",
    "\n",
    "print(new_york)\n",
    "\n",
    "new_york_data = get_air_pollution_history(new_york.lat.values[0], new_york.lng.values[0], start_time, end_time, api_key)"
   ]
  },
  {
   "cell_type": "code",
   "execution_count": 13,
   "metadata": {},
   "outputs": [
    {
     "name": "stdout",
     "output_type": "stream",
     "text": [
      "{'coord': {'lon': -73.9249, 'lat': 40.6943}, 'list': [{'main': {'aqi': 1}, 'components': {'co': 427.25, 'no': 21.23, 'no2': 32.56, 'o3': 28.25, 'so2': 9.3, 'pm2_5': 5.07, 'pm10': 8.92, 'nh3': 3.26}, 'dt': 1684153890}]}\n"
     ]
    }
   ],
   "source": [
    "print(new_york_data)"
   ]
  },
  {
   "cell_type": "code",
   "execution_count": 14,
   "metadata": {},
   "outputs": [],
   "source": [
    "def merge_json(data):\n",
    "    result = list()\n",
    "    result.extend(json.load(data))"
   ]
  },
  {
   "cell_type": "code",
   "execution_count": 15,
   "metadata": {},
   "outputs": [
    {
     "name": "stdout",
     "output_type": "stream",
     "text": [
      "(20, 17)\n"
     ]
    }
   ],
   "source": [
    "print(cities.shape)"
   ]
  },
  {
   "cell_type": "code",
   "execution_count": 16,
   "metadata": {},
   "outputs": [],
   "source": [
    "pollution_list = []\n",
    "for index, row in cities.iterrows():\n",
    "    # print(row.lat)\n",
    "    data = get_air_pollution_history(row.lat, row.lng, start_time, end_time, api_key)\n",
    "    # print(data)\n",
    "    pollution_list.append(data)"
   ]
  },
  {
   "cell_type": "code",
   "execution_count": 11,
   "metadata": {},
   "outputs": [],
   "source": [
    "# print(pollution_list)\n",
    "# print()"
   ]
  },
  {
   "cell_type": "code",
   "execution_count": 18,
   "metadata": {},
   "outputs": [],
   "source": [
    "file_path = '../data/pollution/pollution_data_simple.json'\n",
    "with open(file_path, \"w\") as json_file:\n",
    "    json.dump(pollution_list, json_file)"
   ]
  }
 ],
 "metadata": {
  "kernelspec": {
   "display_name": "usa-venv",
   "language": "python",
   "name": "python3"
  },
  "language_info": {
   "codemirror_mode": {
    "name": "ipython",
    "version": 3
   },
   "file_extension": ".py",
   "mimetype": "text/x-python",
   "name": "python",
   "nbconvert_exporter": "python",
   "pygments_lexer": "ipython3",
   "version": "3.9.13"
  },
  "orig_nbformat": 4
 },
 "nbformat": 4,
 "nbformat_minor": 2
}
