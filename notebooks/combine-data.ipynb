{
 "cells": [
  {
   "attachments": {},
   "cell_type": "markdown",
   "metadata": {},
   "source": [
    "# Combining JSON data"
   ]
  },
  {
   "cell_type": "code",
   "execution_count": 1,
   "metadata": {},
   "outputs": [],
   "source": [
    "import json\n",
    "\n",
    "with open('../data/maps/us-cities.json') as file:\n",
    "    cities_data = json.load(file)\n",
    "\n",
    "with open('../data/pollution/pollution_data_simple.json') as file:\n",
    "    pollution_data = json.load(file)"
   ]
  },
  {
   "cell_type": "code",
   "execution_count": 2,
   "metadata": {},
   "outputs": [],
   "source": [
    "# Create a dictionary with the coordinates as keys and the pollution data as values\n",
    "pollution_dict = {str(item['coord']['lon']) + ',' + str(item['coord']['lat']): item['list'] for item in pollution_data}"
   ]
  },
  {
   "cell_type": "code",
   "execution_count": 3,
   "metadata": {},
   "outputs": [],
   "source": [
    "for city in cities_data:\n",
    "    key = str(city['lng']) + ',' + str(city['lat'])\n",
    "    if key in pollution_dict:\n",
    "        city['pollution_data'] = pollution_dict[key]\n",
    "    else:\n",
    "        city['pollution_data'] = None"
   ]
  },
  {
   "cell_type": "code",
   "execution_count": 4,
   "metadata": {},
   "outputs": [],
   "source": [
    "with open('cities_with_pollution_simple.json', 'w') as f:\n",
    "    json.dump(cities_data, f)"
   ]
  }
 ],
 "metadata": {
  "kernelspec": {
   "display_name": "usa-venv",
   "language": "python",
   "name": "python3"
  },
  "language_info": {
   "codemirror_mode": {
    "name": "ipython",
    "version": 3
   },
   "file_extension": ".py",
   "mimetype": "text/x-python",
   "name": "python",
   "nbconvert_exporter": "python",
   "pygments_lexer": "ipython3",
   "version": "3.10.6"
  },
  "orig_nbformat": 4
 },
 "nbformat": 4,
 "nbformat_minor": 2
}
